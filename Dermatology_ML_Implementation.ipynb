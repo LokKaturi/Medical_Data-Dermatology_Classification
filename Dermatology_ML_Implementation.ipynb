{
  "nbformat": 4,
  "nbformat_minor": 0,
  "metadata": {
    "colab": {
      "provenance": []
    },
    "kernelspec": {
      "name": "python3",
      "display_name": "Python 3"
    },
    "language_info": {
      "name": "python"
    }
  },
  "cells": [
    {
      "cell_type": "code",
      "source": [
        "import pandas as pd \n",
        "import numpy as np \n",
        "import matplotlib.pyplot as plt\n",
        "import seaborn as sns "
      ],
      "metadata": {
        "id": "kYzEXqdDHaRk"
      },
      "execution_count": 3,
      "outputs": []
    },
    {
      "cell_type": "code",
      "execution_count": 4,
      "metadata": {
        "colab": {
          "base_uri": "https://localhost:8080/",
          "height": 352
        },
        "id": "2DcDysDr0RJL",
        "outputId": "4e39eb48-3cfe-4d89-d8d1-f9d59b337499"
      },
      "outputs": [
        {
          "output_type": "execute_result",
          "data": {
            "text/plain": [
              "   erythema  scaling  definite borders  itching  koebner phenomenon  \\\n",
              "0         2        2                 0        3                   0   \n",
              "1         3        3                 3        2                   1   \n",
              "2         2        1                 2        3                   1   \n",
              "3         2        2                 2        0                   0   \n",
              "4         2        3                 2        2                   2   \n",
              "\n",
              "   polygonal papules  follicular papules  oral mucosal involvement  \\\n",
              "0                  0                   0                         0   \n",
              "1                  0                   0                         0   \n",
              "2                  3                   0                         3   \n",
              "3                  0                   0                         0   \n",
              "4                  2                   0                         2   \n",
              "\n",
              "   knee and elbow involvement  scalp involvement  ...  \\\n",
              "0                           1                  0  ...   \n",
              "1                           1                  1  ...   \n",
              "2                           0                  0  ...   \n",
              "3                           3                  2  ...   \n",
              "4                           0                  0  ...   \n",
              "\n",
              "   disappearance of the granular layer  \\\n",
              "0                                    0   \n",
              "1                                    0   \n",
              "2                                    0   \n",
              "3                                    3   \n",
              "4                                    2   \n",
              "\n",
              "   vacuolisation and damage of basal layer  spongiosis  \\\n",
              "0                                        0           3   \n",
              "1                                        0           0   \n",
              "2                                        2           3   \n",
              "3                                        0           0   \n",
              "4                                        3           2   \n",
              "\n",
              "   saw-tooth appearance of retes  follicular horn plug  \\\n",
              "0                              0                     0   \n",
              "1                              0                     0   \n",
              "2                              2                     0   \n",
              "3                              0                     0   \n",
              "4                              3                     0   \n",
              "\n",
              "   perifollicular parakeratosis  inflammatory monoluclear inflitrate  \\\n",
              "0                             0                                    1   \n",
              "1                             0                                    1   \n",
              "2                             0                                    2   \n",
              "3                             0                                    3   \n",
              "4                             0                                    2   \n",
              "\n",
              "   band-like infiltrate  Age  target  \n",
              "0                     0   55       2  \n",
              "1                     0    8       1  \n",
              "2                     3   26       3  \n",
              "3                     0   40       1  \n",
              "4                     3   45       3  \n",
              "\n",
              "[5 rows x 35 columns]"
            ],
            "text/html": [
              "\n",
              "  <div id=\"df-f48617d6-b170-4240-8df7-2544ca49c6c5\">\n",
              "    <div class=\"colab-df-container\">\n",
              "      <div>\n",
              "<style scoped>\n",
              "    .dataframe tbody tr th:only-of-type {\n",
              "        vertical-align: middle;\n",
              "    }\n",
              "\n",
              "    .dataframe tbody tr th {\n",
              "        vertical-align: top;\n",
              "    }\n",
              "\n",
              "    .dataframe thead th {\n",
              "        text-align: right;\n",
              "    }\n",
              "</style>\n",
              "<table border=\"1\" class=\"dataframe\">\n",
              "  <thead>\n",
              "    <tr style=\"text-align: right;\">\n",
              "      <th></th>\n",
              "      <th>erythema</th>\n",
              "      <th>scaling</th>\n",
              "      <th>definite borders</th>\n",
              "      <th>itching</th>\n",
              "      <th>koebner phenomenon</th>\n",
              "      <th>polygonal papules</th>\n",
              "      <th>follicular papules</th>\n",
              "      <th>oral mucosal involvement</th>\n",
              "      <th>knee and elbow involvement</th>\n",
              "      <th>scalp involvement</th>\n",
              "      <th>...</th>\n",
              "      <th>disappearance of the granular layer</th>\n",
              "      <th>vacuolisation and damage of basal layer</th>\n",
              "      <th>spongiosis</th>\n",
              "      <th>saw-tooth appearance of retes</th>\n",
              "      <th>follicular horn plug</th>\n",
              "      <th>perifollicular parakeratosis</th>\n",
              "      <th>inflammatory monoluclear inflitrate</th>\n",
              "      <th>band-like infiltrate</th>\n",
              "      <th>Age</th>\n",
              "      <th>target</th>\n",
              "    </tr>\n",
              "  </thead>\n",
              "  <tbody>\n",
              "    <tr>\n",
              "      <th>0</th>\n",
              "      <td>2</td>\n",
              "      <td>2</td>\n",
              "      <td>0</td>\n",
              "      <td>3</td>\n",
              "      <td>0</td>\n",
              "      <td>0</td>\n",
              "      <td>0</td>\n",
              "      <td>0</td>\n",
              "      <td>1</td>\n",
              "      <td>0</td>\n",
              "      <td>...</td>\n",
              "      <td>0</td>\n",
              "      <td>0</td>\n",
              "      <td>3</td>\n",
              "      <td>0</td>\n",
              "      <td>0</td>\n",
              "      <td>0</td>\n",
              "      <td>1</td>\n",
              "      <td>0</td>\n",
              "      <td>55</td>\n",
              "      <td>2</td>\n",
              "    </tr>\n",
              "    <tr>\n",
              "      <th>1</th>\n",
              "      <td>3</td>\n",
              "      <td>3</td>\n",
              "      <td>3</td>\n",
              "      <td>2</td>\n",
              "      <td>1</td>\n",
              "      <td>0</td>\n",
              "      <td>0</td>\n",
              "      <td>0</td>\n",
              "      <td>1</td>\n",
              "      <td>1</td>\n",
              "      <td>...</td>\n",
              "      <td>0</td>\n",
              "      <td>0</td>\n",
              "      <td>0</td>\n",
              "      <td>0</td>\n",
              "      <td>0</td>\n",
              "      <td>0</td>\n",
              "      <td>1</td>\n",
              "      <td>0</td>\n",
              "      <td>8</td>\n",
              "      <td>1</td>\n",
              "    </tr>\n",
              "    <tr>\n",
              "      <th>2</th>\n",
              "      <td>2</td>\n",
              "      <td>1</td>\n",
              "      <td>2</td>\n",
              "      <td>3</td>\n",
              "      <td>1</td>\n",
              "      <td>3</td>\n",
              "      <td>0</td>\n",
              "      <td>3</td>\n",
              "      <td>0</td>\n",
              "      <td>0</td>\n",
              "      <td>...</td>\n",
              "      <td>0</td>\n",
              "      <td>2</td>\n",
              "      <td>3</td>\n",
              "      <td>2</td>\n",
              "      <td>0</td>\n",
              "      <td>0</td>\n",
              "      <td>2</td>\n",
              "      <td>3</td>\n",
              "      <td>26</td>\n",
              "      <td>3</td>\n",
              "    </tr>\n",
              "    <tr>\n",
              "      <th>3</th>\n",
              "      <td>2</td>\n",
              "      <td>2</td>\n",
              "      <td>2</td>\n",
              "      <td>0</td>\n",
              "      <td>0</td>\n",
              "      <td>0</td>\n",
              "      <td>0</td>\n",
              "      <td>0</td>\n",
              "      <td>3</td>\n",
              "      <td>2</td>\n",
              "      <td>...</td>\n",
              "      <td>3</td>\n",
              "      <td>0</td>\n",
              "      <td>0</td>\n",
              "      <td>0</td>\n",
              "      <td>0</td>\n",
              "      <td>0</td>\n",
              "      <td>3</td>\n",
              "      <td>0</td>\n",
              "      <td>40</td>\n",
              "      <td>1</td>\n",
              "    </tr>\n",
              "    <tr>\n",
              "      <th>4</th>\n",
              "      <td>2</td>\n",
              "      <td>3</td>\n",
              "      <td>2</td>\n",
              "      <td>2</td>\n",
              "      <td>2</td>\n",
              "      <td>2</td>\n",
              "      <td>0</td>\n",
              "      <td>2</td>\n",
              "      <td>0</td>\n",
              "      <td>0</td>\n",
              "      <td>...</td>\n",
              "      <td>2</td>\n",
              "      <td>3</td>\n",
              "      <td>2</td>\n",
              "      <td>3</td>\n",
              "      <td>0</td>\n",
              "      <td>0</td>\n",
              "      <td>2</td>\n",
              "      <td>3</td>\n",
              "      <td>45</td>\n",
              "      <td>3</td>\n",
              "    </tr>\n",
              "  </tbody>\n",
              "</table>\n",
              "<p>5 rows × 35 columns</p>\n",
              "</div>\n",
              "      <button class=\"colab-df-convert\" onclick=\"convertToInteractive('df-f48617d6-b170-4240-8df7-2544ca49c6c5')\"\n",
              "              title=\"Convert this dataframe to an interactive table.\"\n",
              "              style=\"display:none;\">\n",
              "        \n",
              "  <svg xmlns=\"http://www.w3.org/2000/svg\" height=\"24px\"viewBox=\"0 0 24 24\"\n",
              "       width=\"24px\">\n",
              "    <path d=\"M0 0h24v24H0V0z\" fill=\"none\"/>\n",
              "    <path d=\"M18.56 5.44l.94 2.06.94-2.06 2.06-.94-2.06-.94-.94-2.06-.94 2.06-2.06.94zm-11 1L8.5 8.5l.94-2.06 2.06-.94-2.06-.94L8.5 2.5l-.94 2.06-2.06.94zm10 10l.94 2.06.94-2.06 2.06-.94-2.06-.94-.94-2.06-.94 2.06-2.06.94z\"/><path d=\"M17.41 7.96l-1.37-1.37c-.4-.4-.92-.59-1.43-.59-.52 0-1.04.2-1.43.59L10.3 9.45l-7.72 7.72c-.78.78-.78 2.05 0 2.83L4 21.41c.39.39.9.59 1.41.59.51 0 1.02-.2 1.41-.59l7.78-7.78 2.81-2.81c.8-.78.8-2.07 0-2.86zM5.41 20L4 18.59l7.72-7.72 1.47 1.35L5.41 20z\"/>\n",
              "  </svg>\n",
              "      </button>\n",
              "      \n",
              "  <style>\n",
              "    .colab-df-container {\n",
              "      display:flex;\n",
              "      flex-wrap:wrap;\n",
              "      gap: 12px;\n",
              "    }\n",
              "\n",
              "    .colab-df-convert {\n",
              "      background-color: #E8F0FE;\n",
              "      border: none;\n",
              "      border-radius: 50%;\n",
              "      cursor: pointer;\n",
              "      display: none;\n",
              "      fill: #1967D2;\n",
              "      height: 32px;\n",
              "      padding: 0 0 0 0;\n",
              "      width: 32px;\n",
              "    }\n",
              "\n",
              "    .colab-df-convert:hover {\n",
              "      background-color: #E2EBFA;\n",
              "      box-shadow: 0px 1px 2px rgba(60, 64, 67, 0.3), 0px 1px 3px 1px rgba(60, 64, 67, 0.15);\n",
              "      fill: #174EA6;\n",
              "    }\n",
              "\n",
              "    [theme=dark] .colab-df-convert {\n",
              "      background-color: #3B4455;\n",
              "      fill: #D2E3FC;\n",
              "    }\n",
              "\n",
              "    [theme=dark] .colab-df-convert:hover {\n",
              "      background-color: #434B5C;\n",
              "      box-shadow: 0px 1px 3px 1px rgba(0, 0, 0, 0.15);\n",
              "      filter: drop-shadow(0px 1px 2px rgba(0, 0, 0, 0.3));\n",
              "      fill: #FFFFFF;\n",
              "    }\n",
              "  </style>\n",
              "\n",
              "      <script>\n",
              "        const buttonEl =\n",
              "          document.querySelector('#df-f48617d6-b170-4240-8df7-2544ca49c6c5 button.colab-df-convert');\n",
              "        buttonEl.style.display =\n",
              "          google.colab.kernel.accessAllowed ? 'block' : 'none';\n",
              "\n",
              "        async function convertToInteractive(key) {\n",
              "          const element = document.querySelector('#df-f48617d6-b170-4240-8df7-2544ca49c6c5');\n",
              "          const dataTable =\n",
              "            await google.colab.kernel.invokeFunction('convertToInteractive',\n",
              "                                                     [key], {});\n",
              "          if (!dataTable) return;\n",
              "\n",
              "          const docLinkHtml = 'Like what you see? Visit the ' +\n",
              "            '<a target=\"_blank\" href=https://colab.research.google.com/notebooks/data_table.ipynb>data table notebook</a>'\n",
              "            + ' to learn more about interactive tables.';\n",
              "          element.innerHTML = '';\n",
              "          dataTable['output_type'] = 'display_data';\n",
              "          await google.colab.output.renderOutput(dataTable, element);\n",
              "          const docLink = document.createElement('div');\n",
              "          docLink.innerHTML = docLinkHtml;\n",
              "          element.appendChild(docLink);\n",
              "        }\n",
              "      </script>\n",
              "    </div>\n",
              "  </div>\n",
              "  "
            ]
          },
          "metadata": {},
          "execution_count": 4
        }
      ],
      "source": [
        "df=pd.read_csv('dermatology.csv')\n",
        "df.head()"
      ]
    },
    {
      "cell_type": "code",
      "source": [
        "df.columns"
      ],
      "metadata": {
        "colab": {
          "base_uri": "https://localhost:8080/"
        },
        "id": "Lf0MfY78CyHw",
        "outputId": "15e89e8c-1022-4ccc-c7cc-e316502bf1fb"
      },
      "execution_count": 5,
      "outputs": [
        {
          "output_type": "execute_result",
          "data": {
            "text/plain": [
              "Index(['erythema', 'scaling', 'definite borders', 'itching',\n",
              "       'koebner phenomenon', 'polygonal papules', 'follicular papules',\n",
              "       'oral mucosal involvement', 'knee and elbow involvement',\n",
              "       'scalp involvement', 'family history', 'melanin incontinence',\n",
              "       'eosinophils in the infiltrate', 'PNL infiltrate',\n",
              "       'fibrosis of the papillary dermis', 'exocytosis', 'acanthosis',\n",
              "       'hyperkeratosis', 'parakeratosis', 'clubbing of the rete ridges',\n",
              "       'elongation of the rete ridges',\n",
              "       'thinning of the suprapapillary epidermis', 'spongiform pustule',\n",
              "       'munro microabcess', 'focal hypergranulosis',\n",
              "       'disappearance of the granular layer',\n",
              "       'vacuolisation and damage of basal layer', 'spongiosis',\n",
              "       'saw-tooth appearance of retes', 'follicular horn plug',\n",
              "       'perifollicular parakeratosis', 'inflammatory monoluclear inflitrate',\n",
              "       'band-like infiltrate', 'Age', 'target'],\n",
              "      dtype='object')"
            ]
          },
          "metadata": {},
          "execution_count": 5
        }
      ]
    },
    {
      "cell_type": "markdown",
      "source": [
        "**Let's implement the random forest model to find the important features which are affecting the target variable.**"
      ],
      "metadata": {
        "id": "n8njgzm3D2NJ"
      }
    },
    {
      "cell_type": "code",
      "source": [
        "X= df.drop('target',axis=1)\n",
        "y=df['target']"
      ],
      "metadata": {
        "id": "v1Nd38-9ERWA"
      },
      "execution_count": 6,
      "outputs": []
    },
    {
      "cell_type": "code",
      "source": [
        "from sklearn.ensemble import RandomForestClassifier\n",
        "\n",
        "rf_clf = RandomForestClassifier(max_depth=2, random_state=0)\n",
        "rf_clf.fit(X, y)\n",
        "\n",
        "print(\"Accuracy of the model\",rf_clf.score(X,y))"
      ],
      "metadata": {
        "colab": {
          "base_uri": "https://localhost:8080/"
        },
        "id": "9rAaGqrDDFZk",
        "outputId": "65fc6cac-cba0-48b1-874e-9cd1d6d8cc7a"
      },
      "execution_count": 7,
      "outputs": [
        {
          "output_type": "stream",
          "name": "stdout",
          "text": [
            "Accuracy of the model 0.8087431693989071\n"
          ]
        }
      ]
    },
    {
      "cell_type": "code",
      "source": [
        "rf_clf.feature_importances_*100"
      ],
      "metadata": {
        "colab": {
          "base_uri": "https://localhost:8080/"
        },
        "id": "nHSrBhvZEb_6",
        "outputId": "fc788683-ac7a-4851-885d-f836083190cf"
      },
      "execution_count": 8,
      "outputs": [
        {
          "output_type": "execute_result",
          "data": {
            "text/plain": [
              "array([ 0.        ,  0.29760886,  0.60034456,  0.20686712,  0.58648919,\n",
              "        5.71823958,  0.36567317,  3.80896408,  1.57852088,  4.6254935 ,\n",
              "        0.        ,  4.6764389 ,  0.        ,  1.27160338,  4.86821394,\n",
              "        2.26670605,  0.01909808,  0.        ,  0.62508865, 13.27910539,\n",
              "        6.78595554, 14.86241422,  0.        ,  1.91190678,  6.05427396,\n",
              "        0.85759912,  7.37411373,  1.55530234,  7.86625404,  0.37334728,\n",
              "        0.54915219,  0.01686259,  6.98269404,  0.01566885])"
            ]
          },
          "metadata": {},
          "execution_count": 8
        }
      ]
    },
    {
      "cell_type": "code",
      "source": [
        "# Calculating the feature importance\n",
        "feature_importance = rf_clf.feature_importances_\n",
        "feature_importance = 100.0*(feature_importance/np.sum(feature_importance))\n",
        "# Displaying the relative feature importance by a horizontal bar chart\n",
        "sorted_idx = np.argsort(feature_importance)\n",
        "pos=np.arange(sorted_idx.shape[0])+0.5\n",
        "plt.figure(figsize=(7, 7))\n",
        "plt.title(\"Feature Importance\")\n",
        "plt.xlabel('Relative Importance')\n",
        "plt.barh(pos, feature_importance[sorted_idx], color='crimson', align=\"center\")\n",
        "plt.yticks(pos,df.columns[:-1][sorted_idx])\n",
        "plt.show()"
      ],
      "metadata": {
        "colab": {
          "base_uri": "https://localhost:8080/",
          "height": 458
        },
        "id": "Mzpiaz8mEjTZ",
        "outputId": "a72ac5ff-aa8a-4b86-d83d-951b5a0e53a4"
      },
      "execution_count": 9,
      "outputs": [
        {
          "output_type": "display_data",
          "data": {
            "text/plain": [
              "<Figure size 504x504 with 1 Axes>"
            ],
            "image/png": "[encoded data removed]"
          },
          "metadata": {
            "needs_background": "light"
          }
        }
      ]
    },
    {
      "cell_type": "markdown",
      "source": [
        "We will take the important features till itching."
      ],
      "metadata": {
        "id": "TeP2huxjJJ3m"
      }
    },
    {
      "cell_type": "code",
      "source": [
        "df.columns"
      ],
      "metadata": {
        "colab": {
          "base_uri": "https://localhost:8080/"
        },
        "id": "IpMhTmsbJhZP",
        "outputId": "3f233696-b06a-47c1-98d8-0d5e48a50a34"
      },
      "execution_count": 10,
      "outputs": [
        {
          "output_type": "execute_result",
          "data": {
            "text/plain": [
              "Index(['erythema', 'scaling', 'definite borders', 'itching',\n",
              "       'koebner phenomenon', 'polygonal papules', 'follicular papules',\n",
              "       'oral mucosal involvement', 'knee and elbow involvement',\n",
              "       'scalp involvement', 'family history', 'melanin incontinence',\n",
              "       'eosinophils in the infiltrate', 'PNL infiltrate',\n",
              "       'fibrosis of the papillary dermis', 'exocytosis', 'acanthosis',\n",
              "       'hyperkeratosis', 'parakeratosis', 'clubbing of the rete ridges',\n",
              "       'elongation of the rete ridges',\n",
              "       'thinning of the suprapapillary epidermis', 'spongiform pustule',\n",
              "       'munro microabcess', 'focal hypergranulosis',\n",
              "       'disappearance of the granular layer',\n",
              "       'vacuolisation and damage of basal layer', 'spongiosis',\n",
              "       'saw-tooth appearance of retes', 'follicular horn plug',\n",
              "       'perifollicular parakeratosis', 'inflammatory monoluclear inflitrate',\n",
              "       'band-like infiltrate', 'Age', 'target'],\n",
              "      dtype='object')"
            ]
          },
          "metadata": {},
          "execution_count": 10
        }
      ]
    },
    {
      "cell_type": "code",
      "source": [
        "important_features= df[['scaling', 'definite borders', 'itching',\n",
        "       'koebner phenomenon', 'polygonal papules', 'follicular papules',\n",
        "       'oral mucosal involvement', 'knee and elbow involvement',\n",
        "       'scalp involvement', 'melanin incontinence',\n",
        "        'PNL infiltrate',\n",
        "       'fibrosis of the papillary dermis', 'exocytosis',\n",
        "        'parakeratosis', 'clubbing of the rete ridges',\n",
        "       'elongation of the rete ridges',\n",
        "       'thinning of the suprapapillary epidermis',\n",
        "       'munro microabcess', 'focal hypergranulosis',\n",
        "       'disappearance of the granular layer',\n",
        "       'vacuolisation and damage of basal layer', 'spongiosis',\n",
        "       'saw-tooth appearance of retes', 'follicular horn plug',\n",
        "       'perifollicular parakeratosis',\n",
        "       'band-like infiltrate']]\n",
        "\n",
        "y= df['target']"
      ],
      "metadata": {
        "id": "UlZYjIz6Hl9A"
      },
      "execution_count": 11,
      "outputs": []
    },
    {
      "cell_type": "code",
      "source": [
        "_y_imbalance=y.value_counts()/len(y)*100\n",
        "print(\"The percentage of each category in the target \\n\",_y_imbalance)"
      ],
      "metadata": {
        "colab": {
          "base_uri": "https://localhost:8080/"
        },
        "id": "bmSmN6-5KYtv",
        "outputId": "23a864b3-8ca2-4935-949e-22abb8c63953"
      },
      "execution_count": 12,
      "outputs": [
        {
          "output_type": "stream",
          "name": "stdout",
          "text": [
            "The percentage of each category in the target \n",
            " 1    30.601093\n",
            "3    19.672131\n",
            "2    16.666667\n",
            "5    14.207650\n",
            "4    13.387978\n",
            "6     5.464481\n",
            "Name: target, dtype: float64\n"
          ]
        }
      ]
    },
    {
      "cell_type": "code",
      "source": [
        "dict_y = { '1':int( _y_imbalance[1]),\n",
        "          '3': int(_y_imbalance[2]),\n",
        "          '2': int(_y_imbalance[3]),\n",
        "          '5': int(_y_imbalance[4]),\n",
        "          '4': int(_y_imbalance[5]),\n",
        "          '6': int(_y_imbalance[6])\n",
        "    \n",
        "}"
      ],
      "metadata": {
        "id": "sv22CU4SeYMI"
      },
      "execution_count": 13,
      "outputs": []
    },
    {
      "cell_type": "code",
      "source": [
        "type_ = list(dict_y.keys())\n",
        "percentage = list(dict_y.values())\n",
        "fig = plt.figure(figsize = (10, 5))\n",
        "# creating the bar plot\n",
        "plt.bar(type_, percentage, color ='maroon',\n",
        "        width = 0.4)\n",
        "plt.xlabel(\"Class\")\n",
        "plt.ylabel(\"%age of each class\")\n",
        "plt.title(\"Value Count of each Class in (% age)\")\n",
        "plt.show()"
      ],
      "metadata": {
        "colab": {
          "base_uri": "https://localhost:8080/",
          "height": 350
        },
        "id": "4xbCNZ-tgBXW",
        "outputId": "18ecc71c-2aff-4798-ecfe-f7edb3f277de"
      },
      "execution_count": 14,
      "outputs": [
        {
          "output_type": "display_data",
          "data": {
            "text/plain": [
              "<Figure size 720x360 with 1 Axes>"
            ],
            "image/png": "[encoded data removed]"
          },
          "metadata": {
            "needs_background": "light"
          }
        }
      ]
    },
    {
      "cell_type": "markdown",
      "source": [
        "There is an imbalance in each type of target. "
      ],
      "metadata": {
        "id": "iNNftAC5K_3b"
      }
    },
    {
      "cell_type": "markdown",
      "source": [
        "Let's try on ML models on unbalance data set "
      ],
      "metadata": {
        "id": "64_6EXkjCX1B"
      }
    },
    {
      "cell_type": "markdown",
      "source": [
        "**SVM-LINEAR**"
      ],
      "metadata": {
        "id": "fxYrMscDf3p0"
      }
    },
    {
      "cell_type": "code",
      "source": [
        "# importing necessary libraries\n",
        "from sklearn import datasets\n",
        "from sklearn.metrics import confusion_matrix\n",
        "from sklearn.model_selection import train_test_split\n",
        "from sklearn.metrics import f1_score\n",
        "from sklearn.svm import SVC\n",
        "from sklearn.metrics import roc_curve, auc # Importing 'roc_curve' and 'auc' \n",
        "from sklearn.metrics import precision_score,recall_score #precision score\n",
        "  \n",
        "# dividing X, y into train and test data\n",
        "X_train, X_test, y_train, y_test = train_test_split(important_features, y,test_size=0.30, random_state = 0)\n",
        "  \n",
        "# training a linear SVM classifier\n",
        "\n",
        "svm_model_linear = SVC(kernel = 'linear', C = 1).fit(X_train, y_train.values.ravel())\n",
        "\n",
        "#predicting y_train and y_test\n",
        "y_train_predict = svm_model_linear.predict(X_train)\n",
        "y_test_predict = svm_model_linear.predict(X_test)\n",
        "  \n",
        "# model accuracy for X_train and X_test \n",
        "accuracy_train = svm_model_linear.score(X_train, y_train)\n",
        "\n",
        "print( \"Accuracy on Train Data : \", str(int(accuracy_train*100)) +'%')\n",
        "\n",
        "accuracy_test = svm_model_linear.score(X_test, y_test)\n",
        "\n",
        "print( \"Accuracy on Test Data : \", str(int(accuracy_test*100)) +'%' )\n",
        "\n",
        "precision_train=precision_score(y_train,y_train_predict,zero_division='warn',average='micro')\n",
        "\n",
        "# model precision for X_train and X_test \n",
        "print( \"Precision on Train Data : \", str(int(precision_train*100)) +'%' )\n",
        "\n",
        "precision_test=precision_score(y_test,y_test_predict,zero_division='warn',average='micro')\n",
        "\n",
        "print( \"Precision on Test Data : \", str(int(precision_test*100)) +'%' ,)\n",
        "\n",
        "recall_train=recall_score(y_train,y_train_predict,zero_division='warn',average='micro')\n",
        "\n",
        "# model recall for X_train and X_test \n",
        "\n",
        "print( \"Recall on Train Data : \", str(int(recall_train*100)) +'%' )\n",
        "\n",
        "recall_test=recall_score(y_test,y_test_predict,zero_division='warn',average='micro')\n",
        "\n",
        "print( \"Recall on Test Data : \", str(int(recall_test*100)) +'%' ,)\n",
        "\n",
        "# model F-1 score for X_train and X_test\n",
        "F1_score_train =f1_score(y_train, y_train_predict,zero_division='warn',average='micro')\n",
        "\n",
        "print( \"F1 on Train Data : \", str(int(F1_score_train*100)) +'%' )\n",
        "\n",
        "F1_score_test =f1_score(y_test, y_test_predict,zero_division='warn',average='micro')\n",
        "\n",
        "print( \"F1 on Test Data : \", str(int(F1_score_test*100)) +'%' )\n",
        "\n",
        "cm_train = confusion_matrix(y_train,y_train_predict )\n",
        "cm_test = confusion_matrix(y_test,y_test_predict )\n",
        "\n",
        "fig, axes = plt.subplots(1, 2,figsize=(15, 5), sharey=True)\n",
        "sns.heatmap(cm_train,annot=True,ax=axes[0])\n",
        "sns.heatmap(cm_test,annot=True,ax=axes[1])\n",
        "axes[0].set_title(\"Confusion Matrix on Train Data\")\n",
        "axes[1].set_title(\"Confusion Matrix on Test Data\")\n",
        "axes[0].set_xlabel('Actual')\n",
        "axes[0].set_ylabel('Predict')\n",
        "axes[1].set_xlabel('Actual')\n",
        "axes[1].set_ylabel('Predict')\n",
        "plt.show()\n",
        "\n",
        "\n"
      ],
      "metadata": {
        "colab": {
          "base_uri": "https://localhost:8080/",
          "height": 489
        },
        "id": "J4OuzLRSCW3K",
        "outputId": "3cb89ad1-8ac3-477e-e0e1-e7ded3157df1"
      },
      "execution_count": 15,
      "outputs": [
        {
          "output_type": "stream",
          "name": "stdout",
          "text": [
            "Accuracy on Train Data :  99%\n",
            "Accuracy on Test Data :  98%\n",
            "Precision on Train Data :  99%\n",
            "Precision on Test Data :  98%\n",
            "Recall on Train Data :  99%\n",
            "Recall on Test Data :  98%\n",
            "F1 on Train Data :  99%\n",
            "F1 on Test Data :  98%\n"
          ]
        },
        {
          "output_type": "display_data",
          "data": {
            "text/plain": [
              "<Figure size 1080x360 with 4 Axes>"
            ],
            "image/png": "[encoded data removed]"
          },
          "metadata": {
            "needs_background": "light"
          }
        }
      ]
    },
    {
      "cell_type": "markdown",
      "source": [
        "\n",
        "- In Confusion matrix, we can observe that target 1 is predicted as 3 for one data point in training dataset.\n",
        "\n",
        "- In Confusion matrix, we can observe that target 1 is predicted as 3 for two data point in test dataset."
      ],
      "metadata": {
        "id": "gaHmmKh6fXfM"
      }
    },
    {
      "cell_type": "markdown",
      "source": [
        "**KNN Classifier**"
      ],
      "metadata": {
        "id": "amt2gibjMDD-"
      }
    },
    {
      "cell_type": "code",
      "source": [
        "from sklearn.neighbors import KNeighborsClassifier\n",
        "\n",
        "\n",
        "\n",
        "# Train the KNN model using the training sets\n",
        "\n",
        "KNN_model = KNeighborsClassifier(n_neighbors=6).fit(X_train, y_train.values.ravel()) #n_neighbors=6, we have 6 categories in the dataset\n",
        "\n",
        "#predicting y_train and y_test\n",
        "y_train_predict = KNN_model.predict(X_train)\n",
        "y_test_predict = KNN_model.predict(X_test)\n",
        "  \n",
        "# model accuracy for X_train and X_test \n",
        "accuracy_train = KNN_model.score(X_train, y_train)\n",
        "\n",
        "print( \"Accuracy on Train Data : \", str(int(accuracy_train*100)) +'%')\n",
        "\n",
        "accuracy_test = KNN_model.score(X_test, y_test)\n",
        "\n",
        "print( \"Accuracy on Test Data : \", str(int(accuracy_test*100)) +'%' )\n",
        "\n",
        "precision_train=precision_score(y_train,y_train_predict,zero_division='warn',average='micro')\n",
        "\n",
        "# model precision for X_train and X_test \n",
        "\n",
        "print( \"Precision on Train Data : \", str(int(precision_train*100)) +'%' )\n",
        "\n",
        "precision_test=precision_score(y_test,y_test_predict,zero_division='warn',average='micro')\n",
        "\n",
        "print( \"Precision on Test Data : \", str(int(precision_test*100)) +'%')\n",
        "\n",
        "# model recall for X_train and X_test \n",
        "\n",
        "recall_train=recall_score(y_train,y_train_predict,zero_division='warn',average='micro')\n",
        "\n",
        "print( \"Recall on Train Data : \", str(int(recall_train*100)) +'%' )\n",
        "\n",
        "recall_test=recall_score(y_test,y_test_predict,zero_division='warn',average='micro')\n",
        "\n",
        "print( \"Recall on Test Data : \", str(int(recall_test*100)) +'%' ,)\n",
        "\n",
        "# model F-1 score for X_train and X_test\n",
        "F1_score_train =f1_score(y_train, y_train_predict,zero_division='warn',average='micro')\n",
        "\n",
        "print( \"F1 on Train Data : \", str(int(F1_score_train*100)) +'%' )\n",
        "\n",
        "F1_score_test =f1_score(y_test, y_test_predict,zero_division='warn',average='micro')\n",
        "\n",
        "print( \"F1 on Test Data : \", str(int(F1_score_test*100)) +'%' )\n",
        "\n",
        "cm_train = confusion_matrix(y_train,y_train_predict )\n",
        "cm_test = confusion_matrix(y_test,y_test_predict )\n",
        "\n",
        "fig, axes = plt.subplots(1, 2,figsize=(15, 5), sharey=True)\n",
        "sns.heatmap(cm_train,annot=True,ax=axes[0])\n",
        "sns.heatmap(cm_test,annot=True,ax=axes[1])\n",
        "axes[0].set_title(\"Confusion Matrix on Train Data\")\n",
        "axes[1].set_title(\"Confusion Matrix on Test Data\")\n",
        "axes[0].set_xlabel('Actual')\n",
        "axes[0].set_ylabel('Predict')\n",
        "axes[1].set_xlabel('Actual')\n",
        "axes[1].set_ylabel('Predict')\n",
        "plt.show()\n"
      ],
      "metadata": {
        "colab": {
          "base_uri": "https://localhost:8080/",
          "height": 489
        },
        "id": "YI7Ix6n8Cr2n",
        "outputId": "efa66d22-a9f5-40ed-c38c-93a5c23ae3cd"
      },
      "execution_count": 16,
      "outputs": [
        {
          "output_type": "stream",
          "name": "stdout",
          "text": [
            "Accuracy on Train Data :  97%\n",
            "Accuracy on Test Data :  97%\n",
            "Precision on Train Data :  97%\n",
            "Precision on Test Data :  97%\n",
            "Recall on Train Data :  97%\n",
            "Recall on Test Data :  97%\n",
            "F1 on Train Data :  97%\n",
            "F1 on Test Data :  97%\n"
          ]
        },
        {
          "output_type": "display_data",
          "data": {
            "text/plain": [
              "<Figure size 1080x360 with 4 Axes>"
            ],
            "image/png": "[encoded data removed]"
          },
          "metadata": {
            "needs_background": "light"
          }
        }
      ]
    },
    {
      "cell_type": "markdown",
      "source": [
        "- In Confusion matrix, we can observe that target 1 is predicted as 3 for five data point in training dataset.\n",
        "\n",
        "- In Confusion matrix, we can observe that target 1 is predicted as 3 for two data point in test dataset."
      ],
      "metadata": {
        "id": "kwBhtwYxf9_j"
      }
    },
    {
      "cell_type": "code",
      "source": [
        "# calculating the accuracy of models with different values of k\n",
        "f_1_score = np.zeros(20)\n",
        "for i in range(1,21):\n",
        "    #Train Model and Predict  \n",
        "    knn = KNeighborsClassifier(n_neighbors = i).fit(X_train,y_train)\n",
        "    yhat= knn.predict(X_test)\n",
        "    f_1_score[i-1] = f1_score(y_test, yhat,average='micro')\n",
        "\n",
        "print(f_1_score)"
      ],
      "metadata": {
        "colab": {
          "base_uri": "https://localhost:8080/"
        },
        "id": "sQ2BAIGwz57c",
        "outputId": "80c82222-b77e-4f90-8774-e2e452a04e7b"
      },
      "execution_count": 32,
      "outputs": [
        {
          "output_type": "stream",
          "name": "stdout",
          "text": [
            "[0.96363636 0.97272727 0.97272727 0.97272727 0.97272727 0.97272727\n",
            " 0.97272727 0.96363636 0.96363636 0.95454545 0.98181818 0.95454545\n",
            " 0.96363636 0.95454545 0.95454545 0.94545455 0.94545455 0.92727273\n",
            " 0.92727273 0.93636364]\n"
          ]
        }
      ]
    },
    {
      "cell_type": "code",
      "source": [
        "loc = np.arange(1,21,step=1.0)\n",
        "plt.figure(figsize = (10, 6))\n",
        "plt.plot(range(1,21), f_1_score)\n",
        "plt.xticks(loc)\n",
        "plt.xlabel('Number of Neighbors ')\n",
        "plt.ylabel('Accuracy')\n",
        "plt.show()"
      ],
      "metadata": {
        "colab": {
          "base_uri": "https://localhost:8080/",
          "height": 388
        },
        "id": "5p2FgZvG9jsP",
        "outputId": "121291df-2e75-4e4a-c947-fd16b64ab1fe"
      },
      "execution_count": 33,
      "outputs": [
        {
          "output_type": "display_data",
          "data": {
            "text/plain": [
              "<Figure size 720x432 with 1 Axes>"
            ],
            "image/png": "[encoded data removed]"
          },
          "metadata": {
            "needs_background": "light"
          }
        }
      ]
    },
    {
      "cell_type": "markdown",
      "source": [
        "When K=11, we got 98.18% on F1_Test_Score."
      ],
      "metadata": {
        "id": "u2VJvjNq8P5A"
      }
    },
    {
      "cell_type": "code",
      "source": [
        "grid_params = { 'n_neighbors' : [5,7,9,11,13,15],\n",
        "               'weights' : ['uniform','distance'],\n",
        "               'metric' : ['minkowski','euclidean','manhattan']}\n",
        "\n",
        "gs = GridSearchCV(KNeighborsClassifier(), grid_params, verbose = 1, cv=3, n_jobs = -1)\n",
        "g_res = gs.fit(X_train, y_train)"
      ],
      "metadata": {
        "colab": {
          "base_uri": "https://localhost:8080/"
        },
        "id": "5_z_8SSq-H0n",
        "outputId": "c34472aa-8af3-4ab9-f3ee-7e6c34228623"
      },
      "execution_count": 34,
      "outputs": [
        {
          "output_type": "stream",
          "name": "stdout",
          "text": [
            "Fitting 3 folds for each of 36 candidates, totalling 108 fits\n"
          ]
        }
      ]
    },
    {
      "cell_type": "code",
      "source": [
        "g_res.best_estimator_"
      ],
      "metadata": {
        "colab": {
          "base_uri": "https://localhost:8080/"
        },
        "id": "S1N9My4N-6_e",
        "outputId": "5e90d2a6-3096-4f55-cb2d-2e8024b681e2"
      },
      "execution_count": 35,
      "outputs": [
        {
          "output_type": "execute_result",
          "data": {
            "text/plain": [
              "KNeighborsClassifier(metric='manhattan', n_neighbors=11, weights='distance')"
            ]
          },
          "metadata": {},
          "execution_count": 35
        }
      ]
    },
    {
      "cell_type": "markdown",
      "source": [
        "**Tuning K values using Grid Search CV**"
      ],
      "metadata": {
        "id": "9EVMPuVu_vh5"
      }
    },
    {
      "cell_type": "code",
      "source": [
        "from sklearn.neighbors import KNeighborsClassifier\n",
        "\n",
        "\n",
        "\n",
        "# Train the KNN model using the training sets\n",
        "\n",
        "KNN_model = KNeighborsClassifier(metric='manhattan', n_neighbors=11, weights='distance').fit(X_train, y_train.values.ravel()) #n_neighbors=6, we have 6 categories in the dataset\n",
        "\n",
        "#predicting y_train and y_test\n",
        "y_train_predict = KNN_model.predict(X_train)\n",
        "y_test_predict = KNN_model.predict(X_test)\n",
        "  \n",
        "# model accuracy for X_train and X_test \n",
        "accuracy_train = KNN_model.score(X_train, y_train)\n",
        "\n",
        "print( \"Accuracy on Train Data : \", str(int(accuracy_train*100)) +'%')\n",
        "\n",
        "accuracy_test = KNN_model.score(X_test, y_test)\n",
        "\n",
        "print( \"Accuracy on Test Data : \", str(int(accuracy_test*100)) +'%' )\n",
        "\n",
        "precision_train=precision_score(y_train,y_train_predict,zero_division='warn',average='micro')\n",
        "\n",
        "# model precision for X_train and X_test \n",
        "\n",
        "print( \"Precision on Train Data : \", str(int(precision_train*100)) +'%' )\n",
        "\n",
        "precision_test=precision_score(y_test,y_test_predict,zero_division='warn',average='micro')\n",
        "\n",
        "print( \"Precision on Test Data : \", str(int(precision_test*100)) +'%')\n",
        "\n",
        "# model recall for X_train and X_test \n",
        "\n",
        "recall_train=recall_score(y_train,y_train_predict,zero_division='warn',average='micro')\n",
        "\n",
        "print( \"Recall on Train Data : \", str(int(recall_train*100)) +'%' )\n",
        "\n",
        "recall_test=recall_score(y_test,y_test_predict,zero_division='warn',average='micro')\n",
        "\n",
        "print( \"Recall on Test Data : \", str(int(recall_test*100)) +'%' ,)\n",
        "\n",
        "# model F-1 score for X_train and X_test\n",
        "F1_score_train =f1_score(y_train, y_train_predict,zero_division='warn',average='micro')\n",
        "\n",
        "print( \"F1 on Train Data : \", str(int(F1_score_train*100)) +'%' )\n",
        "\n",
        "F1_score_test =f1_score(y_test, y_test_predict,zero_division='warn',average='micro')\n",
        "\n",
        "print( \"F1 on Test Data : \", str(int(F1_score_test*100)) +'%' )\n",
        "\n",
        "cm_train = confusion_matrix(y_train,y_train_predict )\n",
        "cm_test = confusion_matrix(y_test,y_test_predict )\n",
        "\n",
        "fig, axes = plt.subplots(1, 2,figsize=(15, 5), sharey=True)\n",
        "sns.heatmap(cm_train,annot=True,ax=axes[0])\n",
        "sns.heatmap(cm_test,annot=True,ax=axes[1])\n",
        "axes[0].set_title(\"Confusion Matrix on Train Data\")\n",
        "axes[1].set_title(\"Confusion Matrix on Test Data\")\n",
        "axes[0].set_xlabel('Actual')\n",
        "axes[0].set_ylabel('Predict')\n",
        "axes[1].set_xlabel('Actual')\n",
        "axes[1].set_ylabel('Predict')\n",
        "plt.show()\n"
      ],
      "metadata": {
        "colab": {
          "base_uri": "https://localhost:8080/",
          "height": 489
        },
        "id": "p-nOIpLb_AN3",
        "outputId": "74e5a742-54ba-44c3-ce19-b14903a99ed9"
      },
      "execution_count": 36,
      "outputs": [
        {
          "output_type": "stream",
          "name": "stdout",
          "text": [
            "Accuracy on Train Data :  100%\n",
            "Accuracy on Test Data :  96%\n",
            "Precision on Train Data :  100%\n",
            "Precision on Test Data :  96%\n",
            "Recall on Train Data :  100%\n",
            "Recall on Test Data :  96%\n",
            "F1 on Train Data :  100%\n",
            "F1 on Test Data :  96%\n"
          ]
        },
        {
          "output_type": "display_data",
          "data": {
            "text/plain": [
              "<Figure size 1080x360 with 4 Axes>"
            ],
            "image/png": "[encoded data removed]"
          },
          "metadata": {
            "needs_background": "light"
          }
        }
      ]
    },
    {
      "cell_type": "markdown",
      "source": [
        "- In Confusion matrix, the model predicted everything correctly.\n",
        "\n",
        "- In Confusion matrix, we can observe that target 1 is predicted as 3 for 3 data point in test dataset."
      ],
      "metadata": {
        "id": "1YdGo9psEk6z"
      }
    },
    {
      "cell_type": "markdown",
      "source": [
        "**CATEGORICAL NAIVE BAYES**"
      ],
      "metadata": {
        "id": "wHeF2kjVgEtc"
      }
    },
    {
      "cell_type": "code",
      "source": [
        "from sklearn.naive_bayes import CategoricalNB\n",
        "# Train the KNN model using the training sets\n",
        "\n",
        "cnb_model = CategoricalNB().fit(X_train, y_train.values.ravel())\n",
        "\n",
        "#predicting y_train and y_test\n",
        "y_train_predict = cnb_model.predict(X_train)\n",
        "y_test_predict = cnb_model.predict(X_test)\n",
        "  \n",
        "# model accuracy for X_train and X_test \n",
        "accuracy_train = cnb_model.score(X_train, y_train)\n",
        "\n",
        "print( \"Accuracy on Train Data : \", str(int(accuracy_train*100)) +'%')\n",
        "\n",
        "accuracy_test = cnb_model.score(X_test, y_test)\n",
        "\n",
        "print( \"Accuracy on Test Data : \", str(int(accuracy_test*100)) +'%' )\n",
        "\n",
        "precision_train=precision_score(y_train,y_train_predict,zero_division='warn',average='micro')\n",
        "\n",
        "print( \"Precision on Train Data : \", str(int(precision_train*100)) +'%' )\n",
        "\n",
        "precision_test=precision_score(y_test,y_test_predict,zero_division='warn',average='micro')\n",
        "\n",
        "print( \"Precision on Test Data : \", str(int(precision_test*100)) +'%' )\n",
        "# model recall for X_train and X_test \n",
        "\n",
        "recall_train=recall_score(y_train,y_train_predict,zero_division='warn',average='micro')\n",
        "\n",
        "print( \"Recall on Train Data : \", str(int(recall_train*100)) +'%' )\n",
        "\n",
        "recall_test=recall_score(y_test,y_test_predict,zero_division='warn',average='micro')\n",
        "\n",
        "print( \"Recall on Test Data : \", str(int(recall_test*100)) +'%' ,)\n",
        "\n",
        "# model F-1 score for X_train and X_test\n",
        "F1_score_train =f1_score(y_train, y_train_predict,zero_division='warn',average='micro')\n",
        "\n",
        "print( \"F1 on Train Data : \", str(int(F1_score_train*100)) +'%' )\n",
        "\n",
        "F1_score_test =f1_score(y_test, y_test_predict,zero_division='warn',average='micro')\n",
        "\n",
        "print( \"F1 on Test Data : \", str(int(F1_score_test*100)) +'%' )\n",
        "\n",
        "cm_train = confusion_matrix(y_train,y_train_predict )\n",
        "cm_test = confusion_matrix(y_test,y_test_predict )\n",
        "\n",
        "fig, axes = plt.subplots(1, 2,figsize=(15, 5), sharey=True)\n",
        "sns.heatmap(cm_train,annot=True,ax=axes[0])\n",
        "sns.heatmap(cm_test,annot=True,ax=axes[1])\n",
        "axes[0].set_title(\"Confusion Matrix on Train Data\")\n",
        "axes[1].set_title(\"Confusion Matrix on Test Data\")\n",
        "axes[0].set_xlabel('Actual')\n",
        "axes[0].set_ylabel('Predict')\n",
        "axes[1].set_xlabel('Actual')\n",
        "axes[1].set_ylabel('Predict')\n",
        "plt.show()\n",
        "\n"
      ],
      "metadata": {
        "colab": {
          "base_uri": "https://localhost:8080/",
          "height": 489
        },
        "id": "c88af7ceSZuw",
        "outputId": "24fb0104-11af-4747-93c6-340afb3a2223"
      },
      "execution_count": 17,
      "outputs": [
        {
          "output_type": "stream",
          "name": "stdout",
          "text": [
            "Accuracy on Train Data :  99%\n",
            "Accuracy on Test Data :  97%\n",
            "Precision on Train Data :  99%\n",
            "Precision on Test Data :  97%\n",
            "Recall on Train Data :  99%\n",
            "Recall on Test Data :  97%\n",
            "F1 on Train Data :  99%\n",
            "F1 on Test Data :  97%\n"
          ]
        },
        {
          "output_type": "display_data",
          "data": {
            "text/plain": [
              "<Figure size 1080x360 with 4 Axes>"
            ],
            "image/png": "[encoded data removed]"
          },
          "metadata": {
            "needs_background": "light"
          }
        }
      ]
    },
    {
      "cell_type": "markdown",
      "source": [
        "- In Confusion matrix, we can observe that target 1 is predicted as 3 for 1 data point in training dataset.\n",
        "\n",
        "- In Confusion matrix, we can observe that target 1 is predicted as 3 for 2 data point in test dataset."
      ],
      "metadata": {
        "id": "-b9vCBcVgJST"
      }
    },
    {
      "cell_type": "markdown",
      "source": [
        "**RANDOM-FOREST CLASSIFIER**"
      ],
      "metadata": {
        "id": "GobO1ZaEaQEM"
      }
    },
    {
      "cell_type": "code",
      "source": [
        "from sklearn.ensemble import RandomForestClassifier\n",
        "rf_clf = RandomForestClassifier(max_depth=2, random_state=0).fit(X_train,y_train.ravel()) #random forest default values used in sklearn\n",
        "#predicting y_train and y_test\n",
        "y_train_predict = rf_clf.predict(X_train)\n",
        "y_test_predict = rf_clf.predict(X_test)\n",
        "  \n",
        "# model accuracy for X_train and X_test \n",
        "accuracy_train = rf_clf.score(X_train, y_train)\n",
        "\n",
        "print( \"Accuracy on Train Data : \", str(int(accuracy_train*100)) +'%')\n",
        "\n",
        "accuracy_test = rf_clf.score(X_test, y_test)\n",
        "\n",
        "print( \"Accuracy on Test Data : \", str(int(accuracy_test*100)) +'%' )\n",
        "\n",
        "precision_train=precision_score(y_train,y_train_predict,zero_division='warn',average='micro')\n",
        "\n",
        "print( \"Precision on Train Data : \", str(int(precision_train*100)) +'%' )\n",
        "\n",
        "precision_test=precision_score(y_test,y_test_predict,zero_division='warn',average='micro')\n",
        "\n",
        "print( \"Precision on Test Data : \", str(int(precision_test*100)) +'%')\n",
        "# model recall for X_train and X_test \n",
        "\n",
        "recall_train=recall_score(y_train,y_train_predict,zero_division='warn',average='micro')\n",
        "\n",
        "print( \"Recall on Train Data : \", str(int(recall_train*100)) +'%' )\n",
        "\n",
        "recall_test=recall_score(y_test,y_test_predict,zero_division='warn',average='micro')\n",
        "\n",
        "print( \"Recall on Test Data : \", str(int(recall_test*100)) +'%' ,)\n",
        "\n",
        "# model F-1 score for X_train and X_test\n",
        "F1_score_train =f1_score(y_train, y_train_predict,zero_division='warn',average='micro')\n",
        "\n",
        "print( \"F1 on Train Data : \", str(int(F1_score_train*100)) +'%' )\n",
        "\n",
        "F1_score_test =f1_score(y_test, y_test_predict,zero_division='warn',average='micro')\n",
        "\n",
        "print( \"F1 on Test Data : \", str(int(F1_score_test*100)) +'%' )\n",
        "\n",
        "cm_train = confusion_matrix(y_train,y_train_predict )\n",
        "cm_test = confusion_matrix(y_test,y_test_predict )\n",
        "\n",
        "fig, axes = plt.subplots(1, 2,figsize=(15, 5), sharey=True)\n",
        "sns.heatmap(cm_train,annot=True,ax=axes[0])\n",
        "sns.heatmap(cm_test,annot=True,ax=axes[1])\n",
        "axes[0].set_title(\"Confusion Matrix on Train Data\")\n",
        "axes[1].set_title(\"Confusion Matrix on Test Data\")\n",
        "axes[0].set_xlabel('Actual')\n",
        "axes[0].set_ylabel('Predict')\n",
        "axes[1].set_xlabel('Actual')\n",
        "axes[1].set_ylabel('Predict')\n",
        "plt.show()"
      ],
      "metadata": {
        "colab": {
          "base_uri": "https://localhost:8080/",
          "height": 489
        },
        "id": "sG6GTMGWTf3E",
        "outputId": "28ef2c05-bacf-4b58-81fd-404f5e083754"
      },
      "execution_count": 18,
      "outputs": [
        {
          "output_type": "stream",
          "name": "stdout",
          "text": [
            "Accuracy on Train Data :  81%\n",
            "Accuracy on Test Data :  73%\n",
            "Precision on Train Data :  81%\n",
            "Precision on Test Data :  73%\n",
            "Recall on Train Data :  81%\n",
            "Recall on Test Data :  73%\n",
            "F1 on Train Data :  81%\n",
            "F1 on Test Data :  73%\n"
          ]
        },
        {
          "output_type": "display_data",
          "data": {
            "text/plain": [
              "<Figure size 1080x360 with 4 Axes>"
            ],
            "image/png": "[encoded data removed]"
          },
          "metadata": {
            "needs_background": "light"
          }
        }
      ]
    },
    {
      "cell_type": "markdown",
      "source": [
        "- In Confusion matrix, we can observe that target 0 is predicted as 5 for 1 data point and target 1 is predicted as target 5 for 10 data point, target 1 is predicted as target 3 for 34 data points and target 1 is predicted as target 4 for 5 data points in the training dataset.\n",
        "\n",
        "- In Confusion matrix, we can observe that target 0 is predicted as 5 for 2 data point, target 0 is predicted as target 5 for 1 data point, target 1 is predicted as target 5 for 7 data points, target 1 is precited as target 3 for 15 data points in test dataset."
      ],
      "metadata": {
        "id": "oQmQrf2ugNWD"
      }
    },
    {
      "cell_type": "markdown",
      "source": [
        "Let's tune the model and try"
      ],
      "metadata": {
        "id": "9J0vYs1gZaN8"
      }
    },
    {
      "cell_type": "markdown",
      "source": [
        "**HYPERPARAMETER TUNING FOR RANDOM FOREST CLASSIFIER**"
      ],
      "metadata": {
        "id": "ZDro6yZhZfa3"
      }
    },
    {
      "cell_type": "code",
      "source": [
        "import datetime as datetime\n",
        "from sklearn.model_selection import GridSearchCV\n",
        "## Define Grid \n",
        "grid = { \n",
        "    'n_estimators': [200,300,400,500],\n",
        "    'max_features': ['sqrt','log2'],\n",
        "    'max_depth' : [3,4,5,6,7],\n",
        "    'random_state' : [18]\n",
        "}\n",
        "## show start time\n",
        "print(datetime.datetime.now())\n",
        "## Grid Search function\n",
        "CV_rfr = GridSearchCV(estimator=RandomForestClassifier(), param_grid=grid, cv= 5)\n",
        "CV_rfr.fit(X_train, y_train)\n",
        "## show end time\n",
        "print(datetime.datetime.now())"
      ],
      "metadata": {
        "colab": {
          "base_uri": "https://localhost:8080/"
        },
        "id": "fFmoCvQtZezC",
        "outputId": "2a62ae41-021d-4641-ad53-a089f18b3578"
      },
      "execution_count": 19,
      "outputs": [
        {
          "output_type": "stream",
          "name": "stdout",
          "text": [
            "2022-12-09 02:35:14.392236\n",
            "2022-12-09 02:36:59.850330\n"
          ]
        }
      ]
    },
    {
      "cell_type": "code",
      "source": [
        "CV_rfr.best_estimator_"
      ],
      "metadata": {
        "colab": {
          "base_uri": "https://localhost:8080/"
        },
        "id": "SWJqcTxCZvXI",
        "outputId": "169282ae-ea9d-4c27-fade-ceb218c5413c"
      },
      "execution_count": 20,
      "outputs": [
        {
          "output_type": "execute_result",
          "data": {
            "text/plain": [
              "RandomForestClassifier(max_depth=7, max_features='sqrt', n_estimators=300,\n",
              "                       random_state=18)"
            ]
          },
          "metadata": {},
          "execution_count": 20
        }
      ]
    },
    {
      "cell_type": "code",
      "source": [
        "from sklearn.ensemble import RandomForestClassifier\n",
        "rf_clf = RandomForestClassifier(max_depth=6, max_features='log2', n_estimators=200,\n",
        "                       random_state=18).fit(X_train,y_train.ravel()) #random forest default values used in sklearn\n",
        "#predicting y_train and y_test\n",
        "y_train_predict = rf_clf.predict(X_train)\n",
        "y_test_predict = rf_clf.predict(X_test)\n",
        "  \n",
        "# model accuracy for X_train and X_test \n",
        "accuracy_train = rf_clf.score(X_train, y_train)\n",
        "\n",
        "print( \"Accuracy on Train Data : \", str(int(accuracy_train*100)) +'%')\n",
        "\n",
        "accuracy_test = rf_clf.score(X_test, y_test)\n",
        "\n",
        "print( \"Accuracy on Test Data : \", str(int(accuracy_test*100)) +'%' )\n",
        "\n",
        "precision_train=precision_score(y_train,y_train_predict,zero_division='warn',average='micro')\n",
        "\n",
        "print( \"Precision on Train Data : \", str(int(precision_train*100)) +'%' )\n",
        "\n",
        "precision_test=precision_score(y_test,y_test_predict,zero_division='warn',average='micro')\n",
        "\n",
        "print( \"Precision on Test Data : \", str(int(precision_test*100)) +'%')\n",
        "# model recall for X_train and X_test \n",
        "\n",
        "recall_train=recall_score(y_train,y_train_predict,zero_division='warn',average='micro')\n",
        "\n",
        "print( \"Recall on Train Data : \", str(int(recall_train*100)) +'%' )\n",
        "\n",
        "recall_test=recall_score(y_test,y_test_predict,zero_division='warn',average='micro')\n",
        "\n",
        "print( \"Recall on Test Data : \", str(int(recall_test*100)) +'%' ,)\n",
        "\n",
        "# model F-1 score for X_train and X_test\n",
        "F1_score_train =f1_score(y_train, y_train_predict,zero_division='warn',average='micro')\n",
        "\n",
        "print( \"F1 on Train Data : \", str(int(F1_score_train*100)) +'%' )\n",
        "\n",
        "F1_score_test =f1_score(y_test, y_test_predict,zero_division='warn',average='micro')\n",
        "\n",
        "print( \"F1 on Test Data : \", str(int(F1_score_test*100)) +'%' )\n",
        "\n",
        "cm_train = confusion_matrix(y_train,y_train_predict )\n",
        "cm_test = confusion_matrix(y_test,y_test_predict )\n",
        "\n",
        "fig, axes = plt.subplots(1, 2,figsize=(15, 5), sharey=True)\n",
        "sns.heatmap(cm_train,annot=True,ax=axes[0])\n",
        "sns.heatmap(cm_test,annot=True,ax=axes[1])\n",
        "axes[0].set_title(\"Confusion Matrix on Train Data\")\n",
        "axes[1].set_title(\"Confusion Matrix on Test Data\")\n",
        "axes[0].set_xlabel('Actual')\n",
        "axes[0].set_ylabel('Predict')\n",
        "axes[1].set_xlabel('Actual')\n",
        "axes[1].set_ylabel('Predict')\n",
        "plt.show()"
      ],
      "metadata": {
        "colab": {
          "base_uri": "https://localhost:8080/",
          "height": 489
        },
        "id": "Sm4KLgKQZy1P",
        "outputId": "a9355a76-f5df-48f0-bced-930a608f2bc4"
      },
      "execution_count": 21,
      "outputs": [
        {
          "output_type": "stream",
          "name": "stdout",
          "text": [
            "Accuracy on Train Data :  98%\n",
            "Accuracy on Test Data :  96%\n",
            "Precision on Train Data :  98%\n",
            "Precision on Test Data :  96%\n",
            "Recall on Train Data :  98%\n",
            "Recall on Test Data :  96%\n",
            "F1 on Train Data :  98%\n",
            "F1 on Test Data :  96%\n"
          ]
        },
        {
          "output_type": "display_data",
          "data": {
            "text/plain": [
              "<Figure size 1080x360 with 4 Axes>"
            ],
            "image/png": "[encoded data removed]"
          },
          "metadata": {
            "needs_background": "light"
          }
        }
      ]
    },
    {
      "cell_type": "markdown",
      "source": [
        "- In Confusion matrix, we can observe that target 1 is predicted as target 3 for 3 data point in training dataset.\n",
        "\n",
        "- In Confusion matrix, we can observe that target 1 is predicted as 3 for 1 data point in test dataset."
      ],
      "metadata": {
        "id": "RAi1jkHqggyJ"
      }
    },
    {
      "cell_type": "markdown",
      "source": [
        "**GRADIENT BOOSTING CLASSIFIER**"
      ],
      "metadata": {
        "id": "XtRTpptmaObj"
      }
    },
    {
      "cell_type": "code",
      "source": [
        "from sklearn.ensemble import GradientBoostingClassifier\n",
        "gbc_clf = GradientBoostingClassifier(max_depth=6, max_features='log2', n_estimators=200,\n",
        "                       random_state=18).fit(X_train,y_train.ravel()) #random forest default values used in sklearn\n",
        "#predicting y_train and y_test\n",
        "y_train_predict = gbc_clf.predict(X_train)\n",
        "y_test_predict = gbc_clf.predict(X_test)\n",
        "  \n",
        "# model accuracy for X_train and X_test \n",
        "accuracy_train = gbc_clf.score(X_train, y_train)\n",
        "\n",
        "print( \"Accuracy on Train Data : \", str(int(accuracy_train*100)) +'%')\n",
        "\n",
        "accuracy_test = gbc_clf.score(X_test, y_test)\n",
        "\n",
        "print( \"Accuracy on Test Data : \", str(int(accuracy_test*100)) +'%' )\n",
        "\n",
        "precision_train=precision_score(y_train,y_train_predict,zero_division='warn',average='micro')\n",
        "\n",
        "print( \"Precision on Train Data : \", str(int(precision_train*100)) +'%' )\n",
        "\n",
        "precision_test=precision_score(y_test,y_test_predict,zero_division='warn',average='micro')\n",
        "\n",
        "print( \"Precision on Test Data : \", str(int(precision_test*100)) +'%')\n",
        "# model recall for X_train and X_test \n",
        "\n",
        "recall_train=recall_score(y_train,y_train_predict,zero_division='warn',average='micro')\n",
        "\n",
        "print( \"Recall on Train Data : \", str(int(recall_train*100)) +'%' )\n",
        "\n",
        "recall_test=recall_score(y_test,y_test_predict,zero_division='warn',average='micro')\n",
        "\n",
        "print( \"Recall on Test Data : \", str(int(recall_test*100)) +'%' ,)\n",
        "\n",
        "# model F-1 score for X_train and X_test\n",
        "F1_score_train =f1_score(y_train, y_train_predict,zero_division='warn',average='micro')\n",
        "\n",
        "print( \"F1 on Train Data : \", str(int(F1_score_train*100)) +'%' )\n",
        "\n",
        "F1_score_test =f1_score(y_test, y_test_predict,zero_division='warn',average='micro')\n",
        "\n",
        "print( \"F1 on Test Data : \", str(int(F1_score_test*100)) +'%' )\n",
        "\n",
        "cm_train = confusion_matrix(y_train,y_train_predict )\n",
        "cm_test = confusion_matrix(y_test,y_test_predict )\n",
        "\n",
        "fig, axes = plt.subplots(1, 2,figsize=(15, 5), sharey=True)\n",
        "sns.heatmap(cm_train,annot=True,ax=axes[0])\n",
        "sns.heatmap(cm_test,annot=True,ax=axes[1])\n",
        "axes[0].set_title(\"Confusion Matrix on Train Data\")\n",
        "axes[1].set_title(\"Confusion Matrix on Test Data\")\n",
        "axes[0].set_xlabel('Actual')\n",
        "axes[0].set_ylabel('Predict')\n",
        "axes[1].set_xlabel('Actual')\n",
        "axes[1].set_ylabel('Predict')\n",
        "plt.show()\n"
      ],
      "metadata": {
        "id": "DM_a6w6saNsl",
        "colab": {
          "base_uri": "https://localhost:8080/",
          "height": 489
        },
        "outputId": "7b4da9a1-48ae-43b5-d734-47b2666e5036"
      },
      "execution_count": 22,
      "outputs": [
        {
          "output_type": "stream",
          "name": "stdout",
          "text": [
            "Accuracy on Train Data :  100%\n",
            "Accuracy on Test Data :  97%\n",
            "Precision on Train Data :  100%\n",
            "Precision on Test Data :  97%\n",
            "Recall on Train Data :  100%\n",
            "Recall on Test Data :  97%\n",
            "F1 on Train Data :  100%\n",
            "F1 on Test Data :  97%\n"
          ]
        },
        {
          "output_type": "display_data",
          "data": {
            "text/plain": [
              "<Figure size 1080x360 with 4 Axes>"
            ],
            "image/png": "[encoded data removed]"
          },
          "metadata": {
            "needs_background": "light"
          }
        }
      ]
    },
    {
      "cell_type": "markdown",
      "source": [
        "- In Confusion matrix, we can observe the model have accurately predicted all the data points\n",
        "- In Confusion matrix, we can observe that target 1 is predicted as 3 for one data point in test dataset and target 3 is predicted as 1 in test data set."
      ],
      "metadata": {
        "id": "nleJGxx-gmMC"
      }
    },
    {
      "cell_type": "markdown",
      "source": [
        "**HYPERPARAMETER TUNING FOR GRADIENT BOOSTING CLASSIFIER**"
      ],
      "metadata": {
        "id": "Ke-QhFt_djKy"
      }
    },
    {
      "cell_type": "code",
      "source": [
        "param_grid = {'n_estimators':[200,300,400,500],\n",
        "              'max_depth':[3,4,5,6,7], #range(5,16,2), \n",
        "              'min_samples_split':[50,100], #range(200,1001,200), \n",
        "              'learning_rate':[0.01,0.1,0.2],\n",
        "              'random_state' : [18]}\n",
        "\n",
        "## show start time\n",
        "print(datetime.datetime.now())\n",
        "## Grid Search function\n",
        "CV_rfr = GridSearchCV(estimator=GradientBoostingClassifier(), param_grid=param_grid, cv= 5)\n",
        "CV_rfr.fit(X_train, y_train)\n",
        "## show end time\n",
        "print(datetime.datetime.now())"
      ],
      "metadata": {
        "colab": {
          "base_uri": "https://localhost:8080/"
        },
        "id": "XrYpEonOc-wQ",
        "outputId": "ea6d5629-9e8b-41ed-a88f-29f897066616"
      },
      "execution_count": 23,
      "outputs": [
        {
          "output_type": "stream",
          "name": "stdout",
          "text": [
            "2022-12-09 02:37:03.629349\n",
            "2022-12-09 02:52:40.903060\n"
          ]
        }
      ]
    },
    {
      "cell_type": "code",
      "source": [
        "CV_rfr.best_estimator_"
      ],
      "metadata": {
        "colab": {
          "base_uri": "https://localhost:8080/"
        },
        "id": "EBg4AJclh4AN",
        "outputId": "63b043c5-33b0-471b-94d7-5c72480367e7"
      },
      "execution_count": 24,
      "outputs": [
        {
          "output_type": "execute_result",
          "data": {
            "text/plain": [
              "GradientBoostingClassifier(min_samples_split=50, n_estimators=200,\n",
              "                           random_state=18)"
            ]
          },
          "metadata": {},
          "execution_count": 24
        }
      ]
    },
    {
      "cell_type": "code",
      "source": [
        "from sklearn.ensemble import GradientBoostingClassifier\n",
        "gbc_clf = GradientBoostingClassifier(max_depth=4, min_samples_split=50, n_estimators=200,\n",
        "                           random_state=18).fit(X_train,y_train.ravel()) #random forest default values used in sklearn\n",
        "#predicting y_train and y_test\n",
        "y_train_predict = gbc_clf.predict(X_train)\n",
        "y_test_predict = gbc_clf.predict(X_test)\n",
        "  \n",
        "# model accuracy for X_train and X_test \n",
        "accuracy_train = gbc_clf.score(X_train, y_train)\n",
        "\n",
        "print( \"Accuracy on Train Data : \", str(int(accuracy_train*100)) +'%')\n",
        "\n",
        "accuracy_test = gbc_clf.score(X_test, y_test)\n",
        "\n",
        "print( \"Accuracy on Test Data : \", str(int(accuracy_test*100)) +'%' )\n",
        "\n",
        "precision_train=precision_score(y_train,y_train_predict,zero_division='warn',average='micro')\n",
        "\n",
        "print( \"Precision on Train Data : \", str(int(precision_train*100)) +'%' )\n",
        "\n",
        "precision_test=precision_score(y_test,y_test_predict,zero_division='warn',average='micro')\n",
        "\n",
        "print( \"Precision on Test Data : \", str(int(precision_test*100)) +'%')\n",
        "# model recall for X_train and X_test \n",
        "\n",
        "recall_train=recall_score(y_train,y_train_predict,zero_division='warn',average='micro')\n",
        "\n",
        "print( \"Recall on Train Data : \", str(int(recall_train*100)) +'%' )\n",
        "\n",
        "recall_test=recall_score(y_test,y_test_predict,zero_division='warn',average='micro')\n",
        "\n",
        "print( \"Recall on Test Data : \", str(int(recall_test*100)) +'%' ,)\n",
        "\n",
        "# model F-1 score for X_train and X_test\n",
        "F1_score_train =f1_score(y_train, y_train_predict,zero_division='warn',average='micro')\n",
        "\n",
        "print( \"F1 on Train Data : \", str(int(F1_score_train*100)) +'%' )\n",
        "\n",
        "F1_score_test =f1_score(y_test, y_test_predict,zero_division='warn',average='micro')\n",
        "\n",
        "print( \"F1 on Test Data : \", str(int(F1_score_test*100)) +'%' )\n",
        "\n",
        "cm_train = confusion_matrix(y_train,y_train_predict )\n",
        "cm_test = confusion_matrix(y_test,y_test_predict )\n",
        "\n",
        "fig, axes = plt.subplots(1, 2,figsize=(15, 5), sharey=True)\n",
        "sns.heatmap(cm_train,annot=True,ax=axes[0])\n",
        "sns.heatmap(cm_test,annot=True,ax=axes[1])\n",
        "axes[0].set_title(\"Confusion Matrix on Train Data\")\n",
        "axes[1].set_title(\"Confusion Matrix on Test Data\")\n",
        "axes[0].set_xlabel('Actual')\n",
        "axes[0].set_ylabel('Predict')\n",
        "axes[1].set_xlabel('Actual')\n",
        "axes[1].set_ylabel('Predict')\n",
        "plt.show()\n"
      ],
      "metadata": {
        "colab": {
          "base_uri": "https://localhost:8080/",
          "height": 489
        },
        "id": "p-BOIM96fLR0",
        "outputId": "07e842e2-baa6-469e-de50-d8cdfcfd8c84"
      },
      "execution_count": 25,
      "outputs": [
        {
          "output_type": "stream",
          "name": "stdout",
          "text": [
            "Accuracy on Train Data :  100%\n",
            "Accuracy on Test Data :  95%\n",
            "Precision on Train Data :  100%\n",
            "Precision on Test Data :  95%\n",
            "Recall on Train Data :  100%\n",
            "Recall on Test Data :  95%\n",
            "F1 on Train Data :  100%\n",
            "F1 on Test Data :  95%\n"
          ]
        },
        {
          "output_type": "display_data",
          "data": {
            "text/plain": [
              "<Figure size 1080x360 with 4 Axes>"
            ],
            "image/png": "[encoded data removed]"
          },
          "metadata": {
            "needs_background": "light"
          }
        }
      ]
    },
    {
      "cell_type": "code",
      "source": [
        "import numpy as np # linear algebra\n",
        "import pandas as pd # data processing, CSV file I/O (e.g. pd.read_csv)\n",
        "from keras.layers import Dense, Embedding, LSTM, SpatialDropout1D\n",
        "from keras.models import Sequential\n",
        "from sklearn.feature_extraction.text import CountVectorizer\n",
        "from keras.preprocessing.text import Tokenizer\n",
        "#'''''from keras.preprocessing.sequence import pad_sequences\n",
        "from sklearn.model_selection import train_test_split\n",
        "from keras.utils.np_utils import to_categorical\n",
        "from keras.callbacks import EarlyStopping"
      ],
      "metadata": {
        "id": "5b6GvW-3rbs3"
      },
      "execution_count": 26,
      "outputs": []
    },
    {
      "cell_type": "code",
      "source": [
        "\n",
        "from prettytable import PrettyTable\n",
        "  \n",
        "# Specify the Column Names while initializing the Table\n",
        "myTable = PrettyTable([\"Model Name\", \"F1-Train\", \"F1-Test\"])\n",
        "  \n",
        "# Add rows\n",
        "myTable.add_row([\"SVM-Linear\",\"98%\",\"97%\"])\n",
        "myTable.add_row([\"KNN\",\"97%\",\"96%\"])\n",
        "myTable.add_row([\"KNN Tuned \",\"100%\",\"97%\"])\n",
        "myTable.add_row([\"Categorical Naive Bayes\",\"99%\",\"97%\"])\n",
        "myTable.add_row([\"Random Forest\",\"81%\",\"71%\"])\n",
        "myTable.add_row([\"Random Forest Tuned\",\"98%\",\"96%\"])\n",
        "myTable.add_row([\"Gradient Boosting Classifier\",\"100%\",\"97%\"])\n",
        "myTable.add_row([\"Gradient Boosting Classifier Tuned\",\"100%\",\"96%\"])\n",
        "  \n",
        "print(myTable)"
      ],
      "metadata": {
        "id": "jKO834crsGMl",
        "colab": {
          "base_uri": "https://localhost:8080/"
        },
        "outputId": "3487cf9c-da7a-442f-fcb5-477fdef866ae"
      },
      "execution_count": 38,
      "outputs": [
        {
          "output_type": "stream",
          "name": "stdout",
          "text": [
            "+------------------------------------+----------+---------+\n",
            "|             Model Name             | F1-Train | F1-Test |\n",
            "+------------------------------------+----------+---------+\n",
            "|             SVM-Linear             |   98%    |   97%   |\n",
            "|                KNN                 |   97%    |   96%   |\n",
            "|             KNN Tuned              |   100%   |   97%   |\n",
            "|      Categorical Naive Bayes       |   99%    |   97%   |\n",
            "|           Random Forest            |   81%    |   71%   |\n",
            "|        Random Forest Tuned         |   98%    |   96%   |\n",
            "|    Gradient Boosting Classifier    |   100%   |   97%   |\n",
            "| Gradient Boosting Classifier Tuned |   100%   |   96%   |\n",
            "+------------------------------------+----------+---------+\n"
          ]
        }
      ]
    },
    {
      "cell_type": "markdown",
      "source": [
        "After the model experiementation,\n",
        "\n",
        "- We got categorical naive bayes performed well on train and test dataset."
      ],
      "metadata": {
        "id": "EYgIyOPhiwVA"
      }
    }
  ]
}